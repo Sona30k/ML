{
  "nbformat": 4,
  "nbformat_minor": 0,
  "metadata": {
    "colab": {
      "provenance": [],
      "authorship_tag": "ABX9TyNg7NnpDtmo45OUKJmuazAD",
      "include_colab_link": true
    },
    "kernelspec": {
      "name": "python3",
      "display_name": "Python 3"
    },
    "language_info": {
      "name": "python"
    }
  },
  "cells": [
    {
      "cell_type": "markdown",
      "metadata": {
        "id": "view-in-github",
        "colab_type": "text"
      },
      "source": [
        "<a href=\"https://colab.research.google.com/github/Sona30k/ML/blob/main/Untitled1.ipynb\" target=\"_parent\"><img src=\"https://colab.research.google.com/assets/colab-badge.svg\" alt=\"Open In Colab\"/></a>"
      ]
    },
    {
      "cell_type": "code",
      "execution_count": 29,
      "metadata": {
        "id": "HLg5O6yYpDYi"
      },
      "outputs": [],
      "source": [
        "import pandas as pd\n",
        "import numpy as np\n",
        "import matplotlib.pyplot as plt\n"
      ]
    },
    {
      "cell_type": "code",
      "source": [
        "x=[0,1,2,3,4,5,6,7,8,9,10]\n",
        "y=[0,2,5,4,4,8,9,10,11,10,9]\n",
        "xy=[]\n",
        "x2=[]\n",
        "for i in range(len(x)):\n",
        "\n",
        "    product= x[i]*y[i]\n",
        "    xy.append(product)\n",
        "    sqa= x[i]**2\n",
        "    x2.append(sqa)\n",
        "print(x)\n",
        "print(y)\n",
        "print(xy)\n",
        "print(x2)\n",
        "\n",
        "sum_x= np.sum(x)\n",
        "print(\"submission of x: \",sum_x)\n",
        "sum_y=np.sum(y)\n",
        "print(\"submission of y: \", sum_y)\n",
        "sum_xy=np.sum(xy)\n",
        "print(\"submission of xy: \", sum_xy)\n",
        "sum_square=np.sum(x2)\n",
        "print(\"submission of x^2: \", sum_square)\n",
        "\n"
      ],
      "metadata": {
        "colab": {
          "base_uri": "https://localhost:8080/"
        },
        "id": "ulcSTLBPpK9p",
        "outputId": "93984564-82e9-4d98-9be5-17835dac4be1"
      },
      "execution_count": 30,
      "outputs": [
        {
          "output_type": "stream",
          "name": "stdout",
          "text": [
            "[0, 1, 2, 3, 4, 5, 6, 7, 8, 9, 10]\n",
            "[0, 2, 5, 4, 4, 8, 9, 10, 11, 10, 9]\n",
            "[0, 2, 10, 12, 16, 40, 54, 70, 88, 90, 90]\n",
            "[0, 1, 4, 9, 16, 25, 36, 49, 64, 81, 100]\n",
            "submission of x:  55\n",
            "submission of y:  72\n",
            "submission of xy:  472\n",
            "submission of x^2:  385\n"
          ]
        }
      ]
    },
    {
      "cell_type": "code",
      "source": [
        "#slope\n",
        "n=len(x)\n",
        "slope = (n*sum_xy -(sum_x*sum_y))/ (n*sum_square-(sum_x**2))\n",
        "print (slope)"
      ],
      "metadata": {
        "id": "86iL7vpZt5AM",
        "outputId": "c89ea330-8106-4369-e9a2-7679082dbdbf",
        "colab": {
          "base_uri": "https://localhost:8080/"
        }
      },
      "execution_count": 35,
      "outputs": [
        {
          "output_type": "stream",
          "name": "stdout",
          "text": [
            "1.018181818181818\n"
          ]
        }
      ]
    },
    {
      "cell_type": "code",
      "source": [
        "#intercept\n",
        "intercept= (sum_y/n)-(slope*sum_x/n)\n",
        "print(intercept)"
      ],
      "metadata": {
        "id": "DicSGCFju5NF",
        "outputId": "a0c929ce-b0c3-4386-d3ca-a50e4092e4cb",
        "colab": {
          "base_uri": "https://localhost:8080/"
        }
      },
      "execution_count": 36,
      "outputs": [
        {
          "output_type": "stream",
          "name": "stdout",
          "text": [
            "1.454545454545456\n"
          ]
        }
      ]
    },
    {
      "cell_type": "code",
      "source": [],
      "metadata": {
        "id": "XB72KTczwWzI"
      },
      "execution_count": 32,
      "outputs": []
    },
    {
      "cell_type": "code",
      "source": [
        "#equation\n",
        "eq=[]\n",
        "for k in range(len(x)):\n",
        "  solve= slope*x[k]+intercept\n",
        "  eq.append(solve)\n",
        "print(eq)\n",
        "\n"
      ],
      "metadata": {
        "id": "sv4r9B68vCXR",
        "outputId": "0c1be222-e809-4887-f3d5-3f90660f0138",
        "colab": {
          "base_uri": "https://localhost:8080/"
        }
      },
      "execution_count": 37,
      "outputs": [
        {
          "output_type": "stream",
          "name": "stdout",
          "text": [
            "[1.454545454545456, 2.472727272727274, 3.490909090909092, 4.50909090909091, 5.527272727272728, 6.545454545454546, 7.563636363636364, 8.581818181818182, 9.600000000000001, 10.618181818181817, 11.636363636363637]\n"
          ]
        }
      ]
    },
    {
      "cell_type": "code",
      "source": [
        "plt.scatter(x,y,color=\"blue\",label=\"Data Points\")\n",
        "plt.plot(x,eq,color=\"red\",label=\"new\")\n",
        "plt.xlabel(\"X\")\n",
        "plt.ylabel(\"Y\")\n",
        "plt.show()"
      ],
      "metadata": {
        "id": "hHrTV-eMv3HF",
        "outputId": "2842d9e4-62f9-498d-d328-a3f926c63401",
        "colab": {
          "base_uri": "https://localhost:8080/",
          "height": 449
        }
      },
      "execution_count": 49,
      "outputs": [
        {
          "output_type": "display_data",
          "data": {
            "text/plain": [
              "<Figure size 640x480 with 1 Axes>"
            ],
            "image/png": "[encoded data removed]"
          },
          "metadata": {}
        }
      ]
    }
  ]
}